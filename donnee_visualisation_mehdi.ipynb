{
 "cells": [
  {
   "cell_type": "code",
   "execution_count": 1,
   "id": "5ad3b6d6-e7f3-4c79-8ea9-dabeffeb7c0a",
   "metadata": {},
   "outputs": [],
   "source": [
    "import pandas as pd \n",
    "import requests\n",
    "import warnings\n",
    "warnings.filterwarnings('ignore')"
   ]
  },
  {
   "cell_type": "markdown",
   "id": "7d1c2437-4137-4d54-ad0a-13c15ea1fba1",
   "metadata": {},
   "source": [
    "# Utility functions"
   ]
  },
  {
   "cell_type": "code",
   "execution_count": 2,
   "id": "2b75a84c-f659-4a51-9c92-235e2beb17b4",
   "metadata": {},
   "outputs": [],
   "source": [
    "def preprocess_data_per_year(data,df_department,year):\n",
    "    # Get data relative to the year entered\n",
    "    df_elec=data.loc[data[\"Année\"]==year]\n",
    "    # Remove dupplicate values for columns ...\n",
    "    df_elec.drop_duplicates(subset=['Code INSEE de la commune'],inplace=True)\n",
    "    # Drop missing values \n",
    "    df_elec.dropna(subset=['Code INSEE de la commune', 'Consommation annuelle moyenne de la commune (MWh)', 'Nom de la commune'],inplace=True)\n",
    "    df_elec.rename(columns={'Code INSEE de la commune': 'code_commune_INSEE'}, inplace=True)\n",
    "    df_elec['code_commune_INSEE']=df_elec['code_commune_INSEE'].astype(str)\n",
    "    INSEE_codes=set(df_elec['code_commune_INSEE'])\n",
    "    df_department=df_department.loc[df_department['code_commune_INSEE'].isin(INSEE_codes)]\n",
    "    df_department['code_commune_INSEE']=df_department['code_commune_INSEE'].astype(int)\n",
    "    df_elec['code_commune_INSEE']=df_elec['code_commune_INSEE'].astype(int)\n",
    "    # Merging the two dataframes\n",
    "    df_elec_department=pd.merge(df_department, df_elec, how='inner', on='code_commune_INSEE')\n",
    "    df_elec_department.drop_duplicates(subset=['Consommation annuelle moyenne de la commune (MWh)', 'Nom de la commune', 'nom_departement'],inplace=True)\n",
    "    df_elec_department.dropna(subset=[ 'Nom de la commune'],inplace=True)\n",
    "    df_elec_department=df_elec_department[['Consommation annuelle moyenne de la commune (MWh)', 'Nom de la commune', 'nom_departement']]\n",
    "    df_elec_department=df_elec_department.groupby(['nom_departement']).sum()\n",
    "    return df_elec_department"
   ]
  },
  {
   "cell_type": "markdown",
   "id": "68d04d58-7484-4e3e-93a7-a6dcb5ae1299",
   "metadata": {},
   "source": [
    "# Importing data"
   ]
  },
  {
   "cell_type": "code",
   "execution_count": 3,
   "id": "3cf27209-89db-4a3d-81d7-5bb20f1c04e3",
   "metadata": {},
   "outputs": [],
   "source": [
    "df_department=pd.read_csv(\"communes-departement-region.csv\")\n",
    "data= pd.read_csv('datamap.csv',  sep=';')"
   ]
  },
  {
   "cell_type": "markdown",
   "id": "b5e7b5f0-b21a-4a1f-a8bc-aa9989e09423",
   "metadata": {
    "tags": []
   },
   "source": [
    "## Creating data per department with function "
   ]
  },
  {
   "cell_type": "code",
   "execution_count": 4,
   "id": "0f072109-3828-4bd4-9995-2d9946772bdc",
   "metadata": {},
   "outputs": [],
   "source": [
    "cons={}\n",
    "for year in range(2018,2022): \n",
    "    data_year=preprocess_data_per_year(data, df_department,year)\n",
    "    cons[str(year)] =data_year[\"Consommation annuelle moyenne de la commune (MWh)\"].values\n",
    "df_cons_per_depart=pd.DataFrame(cons)\n",
    "df_cons_per_depart[\"departement\"]=data_year.index.values\n",
    "df_cons_per_depart['avg_consumption'] = df_cons_per_depart.mean(axis=1)"
   ]
  },
  {
   "cell_type": "markdown",
   "id": "79cf29ec-acb6-4eb1-a103-727d07c13a5f",
   "metadata": {},
   "source": [
    "## Print the data frame clean"
   ]
  },
  {
   "cell_type": "code",
   "execution_count": 5,
   "id": "946d69d4-ff60-4f83-af84-f5836b97d389",
   "metadata": {},
   "outputs": [
    {
     "data": {
      "text/html": [
       "<div>\n",
       "<style scoped>\n",
       "    .dataframe tbody tr th:only-of-type {\n",
       "        vertical-align: middle;\n",
       "    }\n",
       "\n",
       "    .dataframe tbody tr th {\n",
       "        vertical-align: top;\n",
       "    }\n",
       "\n",
       "    .dataframe thead th {\n",
       "        text-align: right;\n",
       "    }\n",
       "</style>\n",
       "<table border=\"1\" class=\"dataframe\">\n",
       "  <thead>\n",
       "    <tr style=\"text-align: right;\">\n",
       "      <th></th>\n",
       "      <th>2018</th>\n",
       "      <th>2019</th>\n",
       "      <th>2020</th>\n",
       "      <th>2021</th>\n",
       "      <th>departement</th>\n",
       "      <th>avg_consumption</th>\n",
       "    </tr>\n",
       "  </thead>\n",
       "  <tbody>\n",
       "    <tr>\n",
       "      <th>0</th>\n",
       "      <td>806.270</td>\n",
       "      <td>843.413</td>\n",
       "      <td>880.157</td>\n",
       "      <td>911.311</td>\n",
       "      <td>Ain</td>\n",
       "      <td>860.28775</td>\n",
       "    </tr>\n",
       "    <tr>\n",
       "      <th>1</th>\n",
       "      <td>354.479</td>\n",
       "      <td>379.110</td>\n",
       "      <td>374.006</td>\n",
       "      <td>383.455</td>\n",
       "      <td>Aisne</td>\n",
       "      <td>372.76250</td>\n",
       "    </tr>\n",
       "    <tr>\n",
       "      <th>2</th>\n",
       "      <td>148.999</td>\n",
       "      <td>159.072</td>\n",
       "      <td>168.750</td>\n",
       "      <td>181.198</td>\n",
       "      <td>Allier</td>\n",
       "      <td>164.50475</td>\n",
       "    </tr>\n",
       "    <tr>\n",
       "      <th>3</th>\n",
       "      <td>512.908</td>\n",
       "      <td>498.858</td>\n",
       "      <td>521.022</td>\n",
       "      <td>513.162</td>\n",
       "      <td>Alpes-Maritimes</td>\n",
       "      <td>511.48750</td>\n",
       "    </tr>\n",
       "    <tr>\n",
       "      <th>4</th>\n",
       "      <td>157.925</td>\n",
       "      <td>165.898</td>\n",
       "      <td>158.664</td>\n",
       "      <td>163.284</td>\n",
       "      <td>Alpes-de-Haute-Provence</td>\n",
       "      <td>161.44275</td>\n",
       "    </tr>\n",
       "    <tr>\n",
       "      <th>...</th>\n",
       "      <td>...</td>\n",
       "      <td>...</td>\n",
       "      <td>...</td>\n",
       "      <td>...</td>\n",
       "      <td>...</td>\n",
       "      <td>...</td>\n",
       "    </tr>\n",
       "    <tr>\n",
       "      <th>88</th>\n",
       "      <td>265.122</td>\n",
       "      <td>338.884</td>\n",
       "      <td>428.466</td>\n",
       "      <td>361.753</td>\n",
       "      <td>Vendée</td>\n",
       "      <td>348.55625</td>\n",
       "    </tr>\n",
       "    <tr>\n",
       "      <th>89</th>\n",
       "      <td>88.716</td>\n",
       "      <td>94.814</td>\n",
       "      <td>99.623</td>\n",
       "      <td>93.163</td>\n",
       "      <td>Vienne</td>\n",
       "      <td>94.07900</td>\n",
       "    </tr>\n",
       "    <tr>\n",
       "      <th>90</th>\n",
       "      <td>305.399</td>\n",
       "      <td>316.104</td>\n",
       "      <td>314.855</td>\n",
       "      <td>338.797</td>\n",
       "      <td>Vosges</td>\n",
       "      <td>318.78875</td>\n",
       "    </tr>\n",
       "    <tr>\n",
       "      <th>91</th>\n",
       "      <td>180.799</td>\n",
       "      <td>175.844</td>\n",
       "      <td>164.595</td>\n",
       "      <td>169.548</td>\n",
       "      <td>Yonne</td>\n",
       "      <td>172.69650</td>\n",
       "    </tr>\n",
       "    <tr>\n",
       "      <th>92</th>\n",
       "      <td>863.520</td>\n",
       "      <td>868.967</td>\n",
       "      <td>879.382</td>\n",
       "      <td>898.566</td>\n",
       "      <td>Yvelines</td>\n",
       "      <td>877.60875</td>\n",
       "    </tr>\n",
       "  </tbody>\n",
       "</table>\n",
       "<p>93 rows × 6 columns</p>\n",
       "</div>"
      ],
      "text/plain": [
       "       2018     2019     2020     2021              departement  \\\n",
       "0   806.270  843.413  880.157  911.311                      Ain   \n",
       "1   354.479  379.110  374.006  383.455                    Aisne   \n",
       "2   148.999  159.072  168.750  181.198                   Allier   \n",
       "3   512.908  498.858  521.022  513.162          Alpes-Maritimes   \n",
       "4   157.925  165.898  158.664  163.284  Alpes-de-Haute-Provence   \n",
       "..      ...      ...      ...      ...                      ...   \n",
       "88  265.122  338.884  428.466  361.753                   Vendée   \n",
       "89   88.716   94.814   99.623   93.163                   Vienne   \n",
       "90  305.399  316.104  314.855  338.797                   Vosges   \n",
       "91  180.799  175.844  164.595  169.548                    Yonne   \n",
       "92  863.520  868.967  879.382  898.566                 Yvelines   \n",
       "\n",
       "    avg_consumption  \n",
       "0         860.28775  \n",
       "1         372.76250  \n",
       "2         164.50475  \n",
       "3         511.48750  \n",
       "4         161.44275  \n",
       "..              ...  \n",
       "88        348.55625  \n",
       "89         94.07900  \n",
       "90        318.78875  \n",
       "91        172.69650  \n",
       "92        877.60875  \n",
       "\n",
       "[93 rows x 6 columns]"
      ]
     },
     "execution_count": 5,
     "metadata": {},
     "output_type": "execute_result"
    }
   ],
   "source": [
    "df_cons_per_depart"
   ]
  },
  {
   "cell_type": "markdown",
   "id": "ccccba25-4508-407e-bc97-e893551c52f8",
   "metadata": {},
   "source": [
    "## Tranforming data to csv file "
   ]
  },
  {
   "cell_type": "code",
   "execution_count": 6,
   "id": "4b81c4e1-2d6c-44d5-bc6f-715094715725",
   "metadata": {},
   "outputs": [],
   "source": [
    "df_cons_per_depart[['departement','avg_consumption']].to_csv(\"data_final.csv\", index=False)"
   ]
  },
  {
   "cell_type": "code",
   "execution_count": null,
   "id": "25b7dde5-95be-4aff-abb6-f6f28f418b8a",
   "metadata": {},
   "outputs": [],
   "source": []
  }
 ],
 "metadata": {
  "kernelspec": {
   "display_name": "Python 3 (ipykernel)",
   "language": "python",
   "name": "python3"
  },
  "language_info": {
   "codemirror_mode": {
    "name": "ipython",
    "version": 3
   },
   "file_extension": ".py",
   "mimetype": "text/x-python",
   "name": "python",
   "nbconvert_exporter": "python",
   "pygments_lexer": "ipython3",
   "version": "3.9.12"
  }
 },
 "nbformat": 4,
 "nbformat_minor": 5
}
