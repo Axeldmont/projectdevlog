{
 "cells": [
  {
   "cell_type": "code",
   "execution_count": 1,
   "id": "a5deeb1d-54c3-4d24-813c-1053a53e53a1",
   "metadata": {},
   "outputs": [],
   "source": [
    "import pandas as pd\n",
    "import numpy as np\n",
    "import matplotlib.pyplot as plt\n",
    "plt.style.use('fivethirtyeight')\n",
    "import seaborn as sns \n",
    "from datetime import datetime, timedelta, timezone\n",
    "from statsmodels.tsa.seasonal import seasonal_decompose\n",
    "from statsmodels.tsa.api import ExponentialSmoothing, SimpleExpSmoothing, Holt"
   ]
  },
  {
   "cell_type": "markdown",
   "id": "6abded48-088c-400b-9b59-40e1c5ba905e",
   "metadata": {},
   "source": [
    " ## Introduction"
   ]
  },
  {
   "cell_type": "markdown",
   "id": "66fc4111-b704-414a-bcba-a18a880823cb",
   "metadata": {},
   "source": [
    "This notebook is done as party of the project in the course.... The aim is to predict the total electric consumption of France (in MW) on the 8th of December using time series data gathered from : https://odre.opendatasoft.com/explore/dataset/eco2mix-national-tr/information/"
   ]
  },
  {
   "cell_type": "markdown",
   "id": "a7db6ece-18b5-4b49-aeed-6010c9e29a2c",
   "metadata": {},
   "source": [
    "## Data preparation"
   ]
  },
  {
   "cell_type": "code",
   "execution_count": 2,
   "id": "017fec1d-cb54-4b6f-8e46-664bea8a4e23",
   "metadata": {},
   "outputs": [],
   "source": [
    "# Importing data \n",
    "data=pd.read_csv(\"eco2mix-national-tr.csv\", sep=\";\")"
   ]
  },
  {
   "cell_type": "code",
   "execution_count": 3,
   "id": "21186df7-cb50-4881-8921-91fd4e70add2",
   "metadata": {},
   "outputs": [
    {
     "name": "stdout",
     "output_type": "stream",
     "text": [
      "Number of samples is 17664\n"
     ]
    },
    {
     "data": {
      "text/html": [
       "<div>\n",
       "<style scoped>\n",
       "    .dataframe tbody tr th:only-of-type {\n",
       "        vertical-align: middle;\n",
       "    }\n",
       "\n",
       "    .dataframe tbody tr th {\n",
       "        vertical-align: top;\n",
       "    }\n",
       "\n",
       "    .dataframe thead th {\n",
       "        text-align: right;\n",
       "    }\n",
       "</style>\n",
       "<table border=\"1\" class=\"dataframe\">\n",
       "  <thead>\n",
       "    <tr style=\"text-align: right;\">\n",
       "      <th></th>\n",
       "      <th>Périmètre</th>\n",
       "      <th>Nature</th>\n",
       "      <th>Date</th>\n",
       "      <th>Heure</th>\n",
       "      <th>Date - Heure</th>\n",
       "      <th>Consommation (MW)</th>\n",
       "      <th>Prévision J-1 (MW)</th>\n",
       "      <th>Prévision J (MW)</th>\n",
       "      <th>Fioul (MW)</th>\n",
       "      <th>Charbon (MW)</th>\n",
       "      <th>...</th>\n",
       "      <th>Hydraulique - Fil de l'eau + éclusée (MW)</th>\n",
       "      <th>Hydraulique - Lacs (MW)</th>\n",
       "      <th>Hydraulique - STEP turbinage (MW)</th>\n",
       "      <th>Bioénergies - Déchets (MW)</th>\n",
       "      <th>Bioénergies - Biomasse (MW)</th>\n",
       "      <th>Bioénergies - Biogaz (MW)</th>\n",
       "      <th>Stockage batterie (MW)</th>\n",
       "      <th>Déstockage batterie (MW)</th>\n",
       "      <th>Eolien terrestre (MW)</th>\n",
       "      <th>Eolien offshore (MW)</th>\n",
       "    </tr>\n",
       "  </thead>\n",
       "  <tbody>\n",
       "    <tr>\n",
       "      <th>0</th>\n",
       "      <td>France</td>\n",
       "      <td>Données temps réel</td>\n",
       "      <td>2022-06-01</td>\n",
       "      <td>00:00</td>\n",
       "      <td>2022-06-01T10:00:00+12:00</td>\n",
       "      <td>44940.0</td>\n",
       "      <td>44800.0</td>\n",
       "      <td>45100.0</td>\n",
       "      <td>144.0</td>\n",
       "      <td>0.0</td>\n",
       "      <td>...</td>\n",
       "      <td>4331.0</td>\n",
       "      <td>1054.0</td>\n",
       "      <td>1677.0</td>\n",
       "      <td>170.0</td>\n",
       "      <td>584.0</td>\n",
       "      <td>286.0</td>\n",
       "      <td>ND</td>\n",
       "      <td>ND</td>\n",
       "      <td>ND</td>\n",
       "      <td>ND</td>\n",
       "    </tr>\n",
       "    <tr>\n",
       "      <th>1</th>\n",
       "      <td>France</td>\n",
       "      <td>Données temps réel</td>\n",
       "      <td>2022-06-01</td>\n",
       "      <td>02:15</td>\n",
       "      <td>2022-06-01T12:15:00+12:00</td>\n",
       "      <td>39778.0</td>\n",
       "      <td>39450.0</td>\n",
       "      <td>39600.0</td>\n",
       "      <td>143.0</td>\n",
       "      <td>6.0</td>\n",
       "      <td>...</td>\n",
       "      <td>4053.0</td>\n",
       "      <td>840.0</td>\n",
       "      <td>272.0</td>\n",
       "      <td>176.0</td>\n",
       "      <td>564.0</td>\n",
       "      <td>276.0</td>\n",
       "      <td>ND</td>\n",
       "      <td>ND</td>\n",
       "      <td>ND</td>\n",
       "      <td>ND</td>\n",
       "    </tr>\n",
       "    <tr>\n",
       "      <th>2</th>\n",
       "      <td>France</td>\n",
       "      <td>Données temps réel</td>\n",
       "      <td>2022-06-01</td>\n",
       "      <td>05:15</td>\n",
       "      <td>2022-06-01T15:15:00+12:00</td>\n",
       "      <td>37506.0</td>\n",
       "      <td>37150.0</td>\n",
       "      <td>37200.0</td>\n",
       "      <td>144.0</td>\n",
       "      <td>7.0</td>\n",
       "      <td>...</td>\n",
       "      <td>3851.0</td>\n",
       "      <td>610.0</td>\n",
       "      <td>226.0</td>\n",
       "      <td>159.0</td>\n",
       "      <td>562.0</td>\n",
       "      <td>276.0</td>\n",
       "      <td>ND</td>\n",
       "      <td>ND</td>\n",
       "      <td>ND</td>\n",
       "      <td>ND</td>\n",
       "    </tr>\n",
       "    <tr>\n",
       "      <th>3</th>\n",
       "      <td>France</td>\n",
       "      <td>Données temps réel</td>\n",
       "      <td>2022-06-01</td>\n",
       "      <td>07:15</td>\n",
       "      <td>2022-06-01T17:15:00+12:00</td>\n",
       "      <td>44259.0</td>\n",
       "      <td>44650.0</td>\n",
       "      <td>44150.0</td>\n",
       "      <td>144.0</td>\n",
       "      <td>10.0</td>\n",
       "      <td>...</td>\n",
       "      <td>4506.0</td>\n",
       "      <td>1302.0</td>\n",
       "      <td>855.0</td>\n",
       "      <td>163.0</td>\n",
       "      <td>568.0</td>\n",
       "      <td>276.0</td>\n",
       "      <td>ND</td>\n",
       "      <td>ND</td>\n",
       "      <td>ND</td>\n",
       "      <td>ND</td>\n",
       "    </tr>\n",
       "    <tr>\n",
       "      <th>4</th>\n",
       "      <td>France</td>\n",
       "      <td>Données temps réel</td>\n",
       "      <td>2022-06-01</td>\n",
       "      <td>07:30</td>\n",
       "      <td>2022-06-01T17:30:00+12:00</td>\n",
       "      <td>45062.0</td>\n",
       "      <td>45700.0</td>\n",
       "      <td>45100.0</td>\n",
       "      <td>144.0</td>\n",
       "      <td>10.0</td>\n",
       "      <td>...</td>\n",
       "      <td>4522.0</td>\n",
       "      <td>1314.0</td>\n",
       "      <td>984.0</td>\n",
       "      <td>160.0</td>\n",
       "      <td>568.0</td>\n",
       "      <td>276.0</td>\n",
       "      <td>ND</td>\n",
       "      <td>ND</td>\n",
       "      <td>ND</td>\n",
       "      <td>ND</td>\n",
       "    </tr>\n",
       "  </tbody>\n",
       "</table>\n",
       "<p>5 rows × 41 columns</p>\n",
       "</div>"
      ],
      "text/plain": [
       "  Périmètre              Nature        Date  Heure               Date - Heure  \\\n",
       "0    France  Données temps réel  2022-06-01  00:00  2022-06-01T10:00:00+12:00   \n",
       "1    France  Données temps réel  2022-06-01  02:15  2022-06-01T12:15:00+12:00   \n",
       "2    France  Données temps réel  2022-06-01  05:15  2022-06-01T15:15:00+12:00   \n",
       "3    France  Données temps réel  2022-06-01  07:15  2022-06-01T17:15:00+12:00   \n",
       "4    France  Données temps réel  2022-06-01  07:30  2022-06-01T17:30:00+12:00   \n",
       "\n",
       "   Consommation (MW)  Prévision J-1 (MW)  Prévision J (MW)  Fioul (MW)  \\\n",
       "0            44940.0             44800.0           45100.0       144.0   \n",
       "1            39778.0             39450.0           39600.0       143.0   \n",
       "2            37506.0             37150.0           37200.0       144.0   \n",
       "3            44259.0             44650.0           44150.0       144.0   \n",
       "4            45062.0             45700.0           45100.0       144.0   \n",
       "\n",
       "   Charbon (MW)  ...  Hydraulique - Fil de l'eau + éclusée (MW)  \\\n",
       "0           0.0  ...                                     4331.0   \n",
       "1           6.0  ...                                     4053.0   \n",
       "2           7.0  ...                                     3851.0   \n",
       "3          10.0  ...                                     4506.0   \n",
       "4          10.0  ...                                     4522.0   \n",
       "\n",
       "   Hydraulique - Lacs (MW)  Hydraulique - STEP turbinage (MW)  \\\n",
       "0                   1054.0                             1677.0   \n",
       "1                    840.0                              272.0   \n",
       "2                    610.0                              226.0   \n",
       "3                   1302.0                              855.0   \n",
       "4                   1314.0                              984.0   \n",
       "\n",
       "   Bioénergies - Déchets (MW)  Bioénergies - Biomasse (MW)  \\\n",
       "0                       170.0                        584.0   \n",
       "1                       176.0                        564.0   \n",
       "2                       159.0                        562.0   \n",
       "3                       163.0                        568.0   \n",
       "4                       160.0                        568.0   \n",
       "\n",
       "   Bioénergies - Biogaz (MW)  Stockage batterie (MW)  \\\n",
       "0                      286.0                      ND   \n",
       "1                      276.0                      ND   \n",
       "2                      276.0                      ND   \n",
       "3                      276.0                      ND   \n",
       "4                      276.0                      ND   \n",
       "\n",
       "   Déstockage batterie (MW)  Eolien terrestre (MW)  Eolien offshore (MW)  \n",
       "0                        ND                     ND                    ND  \n",
       "1                        ND                     ND                    ND  \n",
       "2                        ND                     ND                    ND  \n",
       "3                        ND                     ND                    ND  \n",
       "4                        ND                     ND                    ND  \n",
       "\n",
       "[5 rows x 41 columns]"
      ]
     },
     "execution_count": 3,
     "metadata": {},
     "output_type": "execute_result"
    }
   ],
   "source": [
    "# Insights on data\n",
    "## Number of samples\n",
    "print(f\"Number of samples is {data.count()[0]}\")\n",
    "## Head of dataframe\n",
    "data.head()"
   ]
  },
  {
   "cell_type": "markdown",
   "id": "732141af-c3a9-49ab-a8b9-9c774cab9a72",
   "metadata": {},
   "source": [
    "## Data cleaning"
   ]
  },
  {
   "cell_type": "code",
   "execution_count": 4,
   "id": "74a01156-45ba-47c6-955b-5c39524bb229",
   "metadata": {},
   "outputs": [
    {
     "name": "stdout",
     "output_type": "stream",
     "text": [
      "ND    17528\n",
      "Name: Eolien terrestre (MW), dtype: int64\n",
      "ND    17528\n",
      "Name: Stockage batterie (MW), dtype: int64\n",
      "France    17664\n",
      "Name: Périmètre, dtype: int64\n"
     ]
    }
   ],
   "source": [
    "# Some columns contain missing values or are irrelevant (same value everywhere)\n",
    "print(data[\"Eolien terrestre (MW)\"].value_counts())\n",
    "print(data[\"Stockage batterie (MW)\"].value_counts()) \n",
    "print(data[\"Périmètre\"].value_counts())"
   ]
  },
  {
   "cell_type": "code",
   "execution_count": 5,
   "id": "7e6b6858-1737-4b9c-a87f-fbe2b4929603",
   "metadata": {},
   "outputs": [],
   "source": [
    "# Remove the unnecessary columns\n",
    "columns_to_drop=[\"Périmètre\",\"Nature\",\"Prévision J-1 (MW)\",\"Prévision J (MW)\", \"Stockage batterie (MW)\", \"Déstockage batterie (MW)\", \"Eolien terrestre (MW)\", \"Eolien offshore (MW)\"]\n",
    "data.drop(columns=columns_to_drop, inplace= True)"
   ]
  },
  {
   "cell_type": "code",
   "execution_count": 6,
   "id": "6351ae9d-97aa-44c1-8eb9-4dcda3fd9c9a",
   "metadata": {},
   "outputs": [],
   "source": [
    "# Remove duplicate values \n",
    "data.drop_duplicates(subset=[\"Date - Heure\"], inplace=True)"
   ]
  },
  {
   "cell_type": "code",
   "execution_count": 7,
   "id": "3832dcb6-1030-4a67-b6a1-6041ea31c59f",
   "metadata": {},
   "outputs": [
    {
     "name": "stdout",
     "output_type": "stream",
     "text": [
      "Number of samples is 17528\n"
     ]
    }
   ],
   "source": [
    "# Remove rows containg empty values\n",
    "data.dropna(subset=[\"Date - Heure\", \"Consommation (MW)\"], inplace = True)\n",
    "print(f\"Number of samples is {data.count()[0]}\")"
   ]
  },
  {
   "cell_type": "markdown",
   "id": "81ab5485-5585-40aa-baae-16cda7bc9a23",
   "metadata": {},
   "source": [
    "## Data reformatting"
   ]
  },
  {
   "cell_type": "code",
   "execution_count": 8,
   "id": "fde464ef-f1db-4076-9ecf-b07c2ca359bc",
   "metadata": {},
   "outputs": [],
   "source": [
    "# Converting date column to datetime format and set time column as index\n",
    "data['Time'] = data[['Date', 'Heure']].agg(' '.join, axis=1)\n",
    "data[\"Time\"]=pd.to_datetime(data[\"Time\"])\n",
    "data[\"Date\"]= pd.to_datetime(data[\"Date\"])\n",
    "data[\"Heure\"]=pd.to_datetime(data[\"Heure\"])\n",
    "data.set_index(\"Time\", inplace=True)\n",
    "data.drop(columns=[\"Date - Heure\"], inplace= True)"
   ]
  },
  {
   "cell_type": "code",
   "execution_count": 9,
   "id": "e414b79e-1862-4e9d-a90a-4cf3fc4f49e1",
   "metadata": {},
   "outputs": [],
   "source": [
    "# Sorting data chronologically\n",
    "data=data.sort_index(ascending=True)"
   ]
  },
  {
   "cell_type": "code",
   "execution_count": 10,
   "id": "03b6923a-bf60-4f7a-bf81-70b9f7c1d4f2",
   "metadata": {},
   "outputs": [],
   "source": [
    "data=data.loc[data['Date'] >= '2022-09-24']"
   ]
  },
  {
   "cell_type": "code",
   "execution_count": 11,
   "id": "8ee25a3f-244f-454a-ae6d-9f06bfc460a0",
   "metadata": {},
   "outputs": [
    {
     "data": {
      "text/plain": [
       "Date                                         6488\n",
       "Heure                                        6488\n",
       "Consommation (MW)                            6488\n",
       "Fioul (MW)                                   6488\n",
       "Charbon (MW)                                 6488\n",
       "Gaz (MW)                                     6488\n",
       "Nucléaire (MW)                               6488\n",
       "Eolien (MW)                                  6488\n",
       "Solaire (MW)                                 6488\n",
       "Hydraulique (MW)                             6488\n",
       "Pompage (MW)                                 6488\n",
       "Bioénergies (MW)                             6488\n",
       "Ech. physiques (MW)                          6488\n",
       "Taux de CO2 (g/kWh)                          6488\n",
       "Ech. comm. Angleterre (MW)                   3244\n",
       "Ech. comm. Espagne (MW)                      3244\n",
       "Ech. comm. Italie (MW)                       3244\n",
       "Ech. comm. Suisse (MW)                       3244\n",
       "Ech. comm. Allemagne-Belgique (MW)           3244\n",
       "Fioul - TAC (MW)                             6488\n",
       "Fioul - Cogénération (MW)                    6488\n",
       "Fioul - Autres (MW)                          6488\n",
       "Gaz - TAC (MW)                               6488\n",
       "Gaz - Cogénération (MW)                      6488\n",
       "Gaz - CCG (MW)                               6488\n",
       "Gaz - Autres (MW)                            6488\n",
       "Hydraulique - Fil de l'eau + éclusée (MW)    6488\n",
       "Hydraulique - Lacs (MW)                      6488\n",
       "Hydraulique - STEP turbinage (MW)            6488\n",
       "Bioénergies - Déchets (MW)                   6488\n",
       "Bioénergies - Biomasse (MW)                  6488\n",
       "Bioénergies - Biogaz (MW)                    6488\n",
       "dtype: int64"
      ]
     },
     "execution_count": 11,
     "metadata": {},
     "output_type": "execute_result"
    }
   ],
   "source": [
    "data.count()"
   ]
  },
  {
   "cell_type": "markdown",
   "id": "b09dadb5-ddda-4d6d-9fe9-ce74b2357f2b",
   "metadata": {},
   "source": [
    "## Data vizualization"
   ]
  },
  {
   "cell_type": "code",
   "execution_count": 13,
   "id": "69f8d5f8-ce9e-4c9f-a189-6deff44d5614",
   "metadata": {},
   "outputs": [
    {
     "data": {
      "text/plain": [
       "<AxesSubplot:>"
      ]
     },
     "execution_count": 13,
     "metadata": {},
     "output_type": "execute_result"
    },
    {
     "data": {
      "image/png": "[encoded data removed]",
      "text/plain": [
       "<Figure size 432x288 with 1 Axes>"
      ]
     },
     "metadata": {},
     "output_type": "display_data"
    }
   ],
   "source": [
    "# Plotting the distribution of Consommation (MW)\n",
    "data[\"Consommation (MW)\"].hist(bins='auto')"
   ]
  },
  {
   "cell_type": "code",
   "execution_count": 14,
   "id": "228fd8e6-6b06-4b04-8424-09b93e6b7f8f",
   "metadata": {},
   "outputs": [
    {
     "data": {
      "text/plain": [
       "Text(0.5, 1.0, 'Electricity consumption over time')"
      ]
     },
     "execution_count": 14,
     "metadata": {},
     "output_type": "execute_result"
    },
    {
     "data": {
      "image/png": "[encoded data removed]",
      "text/plain": [
       "<Figure size 1080x216 with 1 Axes>"
      ]
     },
     "metadata": {},
     "output_type": "display_data"
    }
   ],
   "source": [
    "# Plotting the distribution of Consommation (MW)\n",
    "plt.figure(figsize=(15, 3))\n",
    "plt.plot(data[\"Consommation (MW)\"],label='Consommation')\n",
    "plt.xlabel(\"Date\")\n",
    "plt.ylabel(\"Electricity consumption (MW)\")\n",
    "plt.title(\"Electricity consumption over time\")"
   ]
  },
  {
   "cell_type": "markdown",
   "id": "dc359374-178e-4709-a8f5-b2f2815d6ba9",
   "metadata": {},
   "source": [
    "Since we'll try to predict the electricity consumption within a single day, we can keep only recent observations (5 weeks)."
   ]
  },
  {
   "cell_type": "code",
   "execution_count": null,
   "id": "7f667f88-67a1-4984-9678-9f664b59a80f",
   "metadata": {},
   "outputs": [],
   "source": []
  }
 ],
 "metadata": {
  "kernelspec": {
   "display_name": "Python 3 (ipykernel)",
   "language": "python",
   "name": "python3"
  },
  "language_info": {
   "codemirror_mode": {
    "name": "ipython",
    "version": 3
   },
   "file_extension": ".py",
   "mimetype": "text/x-python",
   "name": "python",
   "nbconvert_exporter": "python",
   "pygments_lexer": "ipython3",
   "version": "3.9.12"
  }
 },
 "nbformat": 4,
 "nbformat_minor": 5
}
